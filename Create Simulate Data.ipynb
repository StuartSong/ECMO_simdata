{
 "cells": [
  {
   "cell_type": "code",
   "execution_count": 6,
   "id": "6c3d84da-5e90-4477-a253-af59202c1f01",
   "metadata": {},
   "outputs": [],
   "source": [
    "import pandas as pd\n",
    "import numpy as np\n",
    "from sklearn.preprocessing import StandardScaler"
   ]
  },
  {
   "cell_type": "code",
   "execution_count": 11,
   "id": "63f89c7b-7d71-4847-8a8d-ec6c57a223f1",
   "metadata": {},
   "outputs": [
    {
     "name": "stderr",
     "output_type": "stream",
     "text": [
      "/tmp/ipykernel_264546/3070054428.py:7: SettingWithCopyWarning: \n",
      "A value is trying to be set on a copy of a slice from a DataFrame\n",
      "\n",
      "See the caveats in the documentation: https://pandas.pydata.org/pandas-docs/stable/user_guide/indexing.html#returning-a-view-versus-a-copy\n",
      "  train_data.drop(columns=['csn'], inplace=True)\n"
     ]
    }
   ],
   "source": [
    "train_csn = pd.read_csv(\"/hpc/home/js1207/sparkECMO/Adult ECMO RL/train_data_continuous.csv\")\n",
    "train_csn = train_csn.csn.unique()\n",
    "data = pd.read_csv(\"non_discritized_states.csv\",index_col=0)\n",
    "train_data = data[data['csn'].isin(train_csn)]\n",
    "\n",
    "train_data.reset_index(drop=True, inplace=True)\n",
    "train_data.drop(columns=['csn'], inplace=True)\n",
    "\n",
    "scaler = StandardScaler()\n",
    "train_data = scaler.fit_transform(train_data)\n"
   ]
  },
  {
   "cell_type": "code",
   "execution_count": 14,
   "id": "b738550b-4a8d-40aa-a9e0-ad0ef0e0e92f",
   "metadata": {},
   "outputs": [
    {
     "name": "stdout",
     "output_type": "stream",
     "text": [
      "Epoch 1/100, Loss: 0.9264, Recon: 0.9264, KL: 375.0389 (Beta=0.00)\n",
      "Epoch 2/100, Loss: 3.2743, Recon: 0.9932, KL: 114.0533 (Beta=0.02)\n",
      "Epoch 3/100, Loss: 1.1111, Recon: 1.0255, KL: 2.1406 (Beta=0.04)\n",
      "Epoch 4/100, Loss: 1.0446, Recon: 1.0121, KL: 0.5413 (Beta=0.06)\n",
      "Epoch 5/100, Loss: 1.0237, Recon: 1.0091, KL: 0.1830 (Beta=0.08)\n",
      "Epoch 6/100, Loss: 1.0204, Recon: 1.0100, KL: 0.1044 (Beta=0.10)\n",
      "Epoch 7/100, Loss: 1.0179, Recon: 1.0058, KL: 0.1008 (Beta=0.12)\n",
      "Epoch 8/100, Loss: 1.0182, Recon: 1.0041, KL: 0.1011 (Beta=0.14)\n",
      "Epoch 9/100, Loss: 1.0202, Recon: 1.0040, KL: 0.1009 (Beta=0.16)\n",
      "Epoch 10/100, Loss: 1.0221, Recon: 1.0040, KL: 0.1008 (Beta=0.18)\n",
      "Epoch 11/100, Loss: 1.0232, Recon: 1.0030, KL: 0.1009 (Beta=0.20)\n",
      "Early stopping triggered at epoch 11.\n"
     ]
    }
   ],
   "source": [
    "import torch\n",
    "import torch.nn as nn\n",
    "import torch.optim as optim\n",
    "import torch.utils.data as data\n",
    "import numpy as np\n",
    "from model import MLPVAE  # Import the model\n",
    "\n",
    "# Load NumPy Training Data\n",
    "train_tensor = torch.tensor(train_data[:, :42], dtype=torch.float32)\n",
    "\n",
    "# Create Dataset & DataLoader\n",
    "class TabularDataset(data.Dataset):\n",
    "    def __init__(self, tensor):\n",
    "        self.tensor = tensor\n",
    "    def __getitem__(self, idx):\n",
    "        return self.tensor[idx]\n",
    "    def __len__(self):\n",
    "        return self.tensor.shape[0]\n",
    "\n",
    "dataset = TabularDataset(train_tensor)\n",
    "dataloader = data.DataLoader(dataset, batch_size=64, shuffle=True)\n",
    "\n",
    "# Initialize Model & Optimizer\n",
    "model = MLPVAE(input_dim=42, hidden_dim=64, latent_dim=16)\n",
    "optimizer = optim.Adam(model.parameters(), lr=5e-4, weight_decay=1e-4)\n",
    "scheduler = optim.lr_scheduler.CosineAnnealingLR(optimizer, T_max=50)\n",
    "\n",
    "# Early Stopping Parameters\n",
    "patience = 10  # Stop after 10 epochs of no improvement\n",
    "best_loss = float(\"inf\")\n",
    "epochs_no_improve = 0\n",
    "\n",
    "# VAE Loss Function\n",
    "def vae_loss(recon_x, x, mu, logvar, beta=1.0):\n",
    "    recon_loss = nn.MSELoss()(recon_x, x)  # Use MSE\n",
    "    kld = -0.5 * torch.sum(1 + logvar - mu.pow(2) - logvar.exp())\n",
    "    kld = torch.clamp(kld, min=0.1)  # Prevent KL collapse\n",
    "    return recon_loss + beta * kld, recon_loss, kld\n",
    "\n",
    "# Training Loop with Early Stopping\n",
    "num_epochs = 100\n",
    "model.train()\n",
    "\n",
    "for epoch in range(num_epochs):\n",
    "    total_loss = 0\n",
    "    total_recon_loss = 0\n",
    "    total_kld = 0\n",
    "    num_batches = 0\n",
    "\n",
    "    # **Cyclical KL Annealing Schedule**\n",
    "    cycle = 50\n",
    "    beta = min(1.0, (epoch % cycle) / cycle)\n",
    "\n",
    "    for batch in dataloader:\n",
    "        optimizer.zero_grad()\n",
    "        recon, mu, logvar = model(batch)\n",
    "        loss, recon_loss, kld = vae_loss(recon, batch, mu, logvar, beta=beta)\n",
    "\n",
    "        loss.backward()\n",
    "        torch.nn.utils.clip_grad_norm_(model.parameters(), max_norm=1.0)  # Gradient Clipping\n",
    "        optimizer.step()\n",
    "\n",
    "        total_loss += loss.item()\n",
    "        total_recon_loss += recon_loss.item()\n",
    "        total_kld += kld.item()\n",
    "        num_batches += 1\n",
    "\n",
    "    avg_loss = total_loss / num_batches\n",
    "    avg_recon_loss = total_recon_loss / num_batches\n",
    "    avg_kld = total_kld / num_batches\n",
    "\n",
    "    scheduler.step()  # Update learning rate\n",
    "\n",
    "    print(f\"Epoch {epoch+1}/{num_epochs}, Loss: {avg_loss:.4f}, Recon: {avg_recon_loss:.4f}, KL: {avg_kld:.4f} (Beta={beta:.2f})\")\n",
    "\n",
    "    # Early Stopping Logic\n",
    "    if avg_loss < best_loss:\n",
    "        best_loss = avg_loss\n",
    "        epochs_no_improve = 0  # Reset counter\n",
    "        torch.save(model.state_dict(), \"best_mlp_vae.pth\")  # Save best model\n",
    "    else:\n",
    "        epochs_no_improve += 1  # Increment if no improvement\n",
    "\n",
    "    if epochs_no_improve >= patience:\n",
    "        print(f\"Early stopping triggered at epoch {epoch+1}.\")\n",
    "        break  # Stop training\n",
    "\n",
    "# Final Model Save\n",
    "torch.save(model.state_dict(), \"mlp_vae.pth\")\n"
   ]
  },
  {
   "cell_type": "code",
   "execution_count": 13,
   "id": "7c19ffeb-2e26-4d56-b39f-1d8396f2ed2e",
   "metadata": {},
   "outputs": [],
   "source": [
    "torch.save(model, \"mlp_vae.pth\")"
   ]
  },
  {
   "cell_type": "code",
   "execution_count": 61,
   "id": "5ba41906-4cd5-4772-a9ce-cabb0f7ffdaf",
   "metadata": {},
   "outputs": [
    {
     "name": "stdout",
     "output_type": "stream",
     "text": [
      "Modified synthetic output: [-1.1699022   0.42113316  0.46528575  0.38823992  0.3147081  -0.24146605\n",
      "  1.0364234   0.01297785  0.03269807 -0.16800848 -0.03724345  0.23910508\n",
      " -0.01513278  1.3327388  -0.64124554  1.1138294   0.54673445 -1.0044123\n",
      " -0.08894157 -0.16174182 -0.3544161  -0.11003835  1.2203125   0.14217015\n",
      " -0.36982304 -0.2851519   1.8047109  -0.02481666  0.06410962 -0.6459687\n",
      "  0.07594274  0.05963591 -0.62476987 -0.12943527  0.35917825 -0.95582557\n",
      "  0.5780245  -0.17491864 -0.79985195 -0.08835298 -0.7651638  -0.874994\n",
      "  1.542209  ]\n"
     ]
    },
    {
     "name": "stderr",
     "output_type": "stream",
     "text": [
      "/tmp/ipykernel_2198607/2336691718.py:1: FutureWarning: You are using `torch.load` with `weights_only=False` (the current default value), which uses the default pickle module implicitly. It is possible to construct malicious pickle data which will execute arbitrary code during unpickling (See https://github.com/pytorch/pytorch/blob/main/SECURITY.md#untrusted-models for more details). In a future release, the default value for `weights_only` will be flipped to `True`. This limits the functions that could be executed during unpickling. Arbitrary objects will no longer be allowed to be loaded via this mode unless they are explicitly allowlisted by the user via `torch.serialization.add_safe_globals`. We recommend you start setting `weights_only=True` for any use case where you don't have full control of the loaded file. Please open an issue on GitHub for any issues related to this experimental feature.\n",
      "  model = torch.load(\"mlp_vae.pth\")\n"
     ]
    }
   ],
   "source": [
    "model = torch.load(\"mlp_vae.pth\")\n",
    "model.eval()  # Set to evaluation mode if not training\n",
    "\n",
    "import torch\n",
    "\n",
    "def generate_synthetic_data(model, sample, column_idx, new_value):\n",
    "    \"\"\"\n",
    "    Modifies a specific column in the input and generates a synthetic output.\n",
    "    \n",
    "    :param model: Trained MLPVAE model\n",
    "    :param sample: A single input sample (1D tensor)\n",
    "    :param column_idx: Index of the column to modify\n",
    "    :param new_value: New value to assign to the column\n",
    "    :return: Generated output with modified column\n",
    "    \"\"\"\n",
    "    model.eval()\n",
    "    \n",
    "    # Convert to batch format (1 sample)\n",
    "    sample = sample.clone().unsqueeze(0)  # Shape (1, input_dim)\n",
    "    \n",
    "    # Encode to latent space\n",
    "    with torch.no_grad():\n",
    "        mu, logvar = model.encode(sample)\n",
    "        z = model.reparameterize(mu, logvar)\n",
    "\n",
    "    # Modify the column in latent space (alternative: modify directly in input)\n",
    "    modified_sample = sample.clone()\n",
    "    modified_sample[0, column_idx] = new_value  # Change the specified column\n",
    "\n",
    "    # Re-encode after modification\n",
    "    with torch.no_grad():\n",
    "        new_mu, new_logvar = model.encode(modified_sample)\n",
    "        new_z = model.reparameterize(new_mu, new_logvar)\n",
    "\n",
    "    # Decode back to see changes\n",
    "    generated_output = model.decode(new_z)\n",
    "\n",
    "    return generated_output.squeeze().detach().numpy()  # Convert back to NumPy for easier analysis\n",
    "\n",
    "# Example usage:\n",
    "sample_idx = 0  # Pick any row from your dataset\n",
    "sample_data = train_tensor[sample_idx]  # Original sample\n",
    "\n",
    "column_to_change = 5  # Example: Modify column 5\n",
    "new_value = 2.0  # New value to assign\n",
    "\n",
    "synthetic_output = generate_synthetic_data(model, sample_data, column_to_change, new_value)\n",
    "\n",
    "print(\"Modified synthetic output:\", synthetic_output)\n"
   ]
  },
  {
   "cell_type": "code",
   "execution_count": 33,
   "id": "57ae03d8-6be4-4c93-b6c3-15666ff28bce",
   "metadata": {},
   "outputs": [
    {
     "data": {
      "text/plain": [
       "array([   43640203,  2178911314,  2207761225,  4510511039,  6648317299,\n",
       "        7270121193, 10017307254, 10057670084, 10243791111, 11197349249,\n",
       "       11367061032, 11598700132, 12128379018, 12156649330, 14719067105,\n",
       "       15668590152, 15738357227, 16251981187, 17249721021, 19073406214,\n",
       "       19085650202, 19330760302, 19657017003, 31978091155, 32313439276,\n",
       "       36950570009, 38450329331, 39299217144, 42008659061, 42989860004,\n",
       "       43323090183, 43917519266, 43946031211, 44991746336, 45457761150,\n",
       "       46056470115, 46429729018, 48783979065, 48791437223, 48994390085,\n",
       "       51299946263, 52278286092, 52461796114, 53029789123, 53045406183,\n",
       "       53096266192, 53243526208, 53393046226, 53467166235, 53476486236,\n",
       "       54565637009, 54705307026, 55395459196, 55403120241, 55511607117,\n",
       "       55953247177, 56063101211, 56258940008, 56831407291, 57284130211,\n",
       "       57642960169, 58928481104, 60780209038, 60845329119, 60879489278,\n",
       "       60956019056, 61200959078, 61260430112, 61391379093, 62369850199,\n",
       "       62405229244, 63083139237, 63121461075, 63152719298, 63433549223,\n",
       "       63512809230, 63869689272, 64309929313, 64723420073, 64778739353,\n",
       "       64843720260, 64908640003, 64939920143, 65075060016, 65098750021,\n",
       "       65157230024, 65189640027, 65209900029, 65264380035, 65390550048,\n",
       "       65682400100, 65706900107, 65816090128, 65968410147, 66144110163,\n",
       "       66303050184, 66322050188, 66385050238, 66614490225, 66713900239,\n",
       "       66713901041, 66724300239, 66795550261, 66803750251, 66926880266,\n",
       "       67152710303, 67307200314, 67448150349, 67546400366, 67620281055,\n",
       "       67682541003, 67763261127, 67779421014, 67786001015, 67796811017,\n",
       "       67843131173, 67872761027, 67958411160, 68121041056, 68177151063,\n",
       "       68192231065, 68315071120, 68321591079, 68349741082, 68463091091,\n",
       "       68780921116, 68797341117, 68845081130, 68862911124, 68909051127,\n",
       "       68989721134, 69241991159, 69356011171, 69372091173, 69487791185,\n",
       "       69567811194, 69626971200, 69649561202, 69746211211, 69900791287,\n",
       "       70201931257, 70225691258, 70293951265, 70341401291, 70454151283,\n",
       "       70666401306, 70840791325])"
      ]
     },
     "execution_count": 33,
     "metadata": {},
     "output_type": "execute_result"
    }
   ],
   "source": [
    "train_csn"
   ]
  },
  {
   "cell_type": "code",
   "execution_count": 28,
   "id": "e43ad66d-d0e8-4730-ac36-38cb2af400c3",
   "metadata": {},
   "outputs": [
    {
     "ename": "SyntaxError",
     "evalue": "invalid syntax (2854671802.py, line 1)",
     "output_type": "error",
     "traceback": [
      "\u001b[0;36m  Cell \u001b[0;32mIn[28], line 1\u001b[0;36m\u001b[0m\n\u001b[0;31m    sparkECMO/Adult ECMO RL/train_data_continuous.csn\u001b[0m\n\u001b[0m                    ^\u001b[0m\n\u001b[0;31mSyntaxError\u001b[0m\u001b[0;31m:\u001b[0m invalid syntax\n"
     ]
    }
   ],
   "source": [
    "sparkECMO/Adult ECMO RL/train_data_continuous.csn"
   ]
  },
  {
   "cell_type": "code",
   "execution_count": null,
   "id": "a8320004-f259-4713-be10-4ae8356d2662",
   "metadata": {},
   "outputs": [],
   "source": []
  }
 ],
 "metadata": {
  "kernelspec": {
   "display_name": "Python 3 (ipykernel)",
   "language": "python",
   "name": "python3"
  },
  "language_info": {
   "codemirror_mode": {
    "name": "ipython",
    "version": 3
   },
   "file_extension": ".py",
   "mimetype": "text/x-python",
   "name": "python",
   "nbconvert_exporter": "python",
   "pygments_lexer": "ipython3",
   "version": "3.11.7"
  }
 },
 "nbformat": 4,
 "nbformat_minor": 5
}
